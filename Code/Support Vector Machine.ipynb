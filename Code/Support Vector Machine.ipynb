{
 "cells": [
  {
   "cell_type": "code",
   "execution_count": null,
   "metadata": {},
   "outputs": [],
   "source": [
    "# import needed packages\n",
    "import pandas as pd\n",
    "import matplotlib.pyplot as plt\n",
    "from numpy import mean\n",
    "from collections import Counter\n",
    "from matplotlib import pyplot\n",
    "\n",
    "from sklearn.preprocessing import scale\n",
    "\n",
    "from sklearn.model_selection import train_test_split\n",
    "from sklearn.model_selection import GridSearchCV\n",
    "from sklearn.model_selection import cross_val_score\n",
    "from sklearn.model_selection import RepeatedStratifiedKFold\n",
    "\n",
    "from sklearn.svm import SVC\n",
    "\n",
    "from sklearn.preprocessing import Normalizer\n",
    "from sklearn.preprocessing import LabelEncoder\n",
    "\n",
    "from sklearn.metrics import plot_confusion_matrix\n",
    "from sklearn.metrics import f1_score\n",
    "from sklearn.metrics import roc_auc_score\n",
    "from sklearn.metrics import precision_score\n",
    "from sklearn.metrics import recall_score\n",
    "\n",
    "from imblearn.pipeline import Pipeline\n",
    "from imblearn.under_sampling import RandomUnderSampler\n"
   ]
  },
  {
   "cell_type": "code",
   "execution_count": null,
   "metadata": {},
   "outputs": [],
   "source": [
    " def calculateMetrics(model):\n",
    "        y_predicted = model.predict(X_test_scaled)\n",
    "        print(model)\n",
    "        print (\"F1 score\")\n",
    "        print(f1_score(y_test, y_predicted, average='micro'))"
   ]
  },
  {
   "cell_type": "code",
   "execution_count": null,
   "metadata": {},
   "outputs": [],
   "source": [
    "## load data\n",
    "df = pd.read_pickle(\"C:\\\\VERTROUWELIJK\\\\final_dataSet.pkl\")\n",
    "\n",
    "# split the data in indepentend variable an dependent variable. \n",
    "X = df.drop(['Voorziening'], axis=1)\n",
    "X_encoded = pd.get_dummies(X, columns=['Geslacht'])\n",
    "X_Original_Scaled = scale(X_encoded)\n",
    "\n",
    "y = df['Voorziening'].copy()"
   ]
  },
  {
   "cell_type": "code",
   "execution_count": null,
   "metadata": {},
   "outputs": [],
   "source": [
    "# transform the dependent variable to value instead of strings\n",
    "y = LabelEncoder().fit_transform(y)"
   ]
  },
  {
   "cell_type": "code",
   "execution_count": null,
   "metadata": {},
   "outputs": [],
   "source": [
    "# summarize distribution of the dependent variabele\n",
    "counter = Counter(y)\n",
    "pyplot.bar(counter.keys(), counter.values())\n",
    "pyplot.show()"
   ]
  },
  {
   "cell_type": "code",
   "execution_count": null,
   "metadata": {},
   "outputs": [],
   "source": [
    "# make test and train set. Also scale the data. Which is neccesary for SVM. \n",
    "X_train, X_test, y_train, y_test = train_test_split(X_encoded,y,random_state=100)\n",
    "X_train_scaled = scale(X_train)\n",
    "X_test_scaled = scale(X_test)"
   ]
  },
  {
   "cell_type": "code",
   "execution_count": null,
   "metadata": {},
   "outputs": [],
   "source": [
    "# create inital SVM model, with an decision function for one vs one. Immedelty calcutale the F1 score to compare this. \n",
    "clf_svm = SVC(decision_function_shape='ovo', random_state=42)\n",
    "clf_svm.fit(X_train_scaled, y_train)\n",
    "calculateMetrics(clf_svm)"
   ]
  },
  {
   "cell_type": "code",
   "execution_count": null,
   "metadata": {},
   "outputs": [],
   "source": [
    "# based nt he above F1 score, I choose to make more model SVC models, \n",
    "# with different kernels in order the get the best kernel for this SVC.\n",
    "linear = svm.SVC(kernel='linear', decision_function_shape='ovo').fit(X_train_scaled, y_train)\n",
    "calculateMetrics(linear)\n",
    "rbf = svm.SVC(kernel='rbf', decision_function_shape='ovo').fit(X_train_scaled, y_train)\n",
    "calculateMetrics(rbf)\n",
    "poly = svm.SVC(kernel='poly', decision_function_shape='ovo').fit(X_train_scaled, y_train)\n",
    "calculateMetrics(poly)\n",
    "sig = svm.SVC(kernel='sigmoid', decision_function_shape='ovo').fit(X_train_scaled, y_train)\n",
    "calculateMetrics(sig)"
   ]
  },
  {
   "cell_type": "code",
   "execution_count": null,
   "metadata": {},
   "outputs": [],
   "source": [
    "# Make an pipileline in order to take randam under sample data.\n",
    "steps = [('under', RandomUnderSampler()), ('model', SVC(decision_function_shape='ovo', random_state=42))]\n",
    "pipeline = Pipeline(steps=steps)\n",
    "# evaluate pipeline\n",
    "cv = RepeatedStratifiedKFold(n_splits=100, n_repeats=5, random_state=42)\n",
    "scores = cross_val_score(pipeline, X_Original_Scaled, y, scoring='f1_micro', cv=cv, n_jobs=-1)\n",
    "# calculate the mean of all these SVC. \n",
    "score = mean(scores)\n",
    "print('F1 Score: %.3f' % score)"
   ]
  },
  {
   "cell_type": "code",
   "execution_count": null,
   "metadata": {},
   "outputs": [],
   "source": [
    "param_grid = [ {'C': [1.0],\n",
    "     'kernel': ['linear']},\n",
    "             ]\n",
    "\n",
    "cv_method = RepeatedStratifiedKFold(n_splits=5, \n",
    "                                    n_repeats=3, \n",
    "                                    random_state=42)\n",
    "\n",
    "optimal_params = GridSearchCV(\n",
    "SVC(decision_function_shape='ovo', random_state=42),\n",
    "param_grid, \n",
    "scoring='f1_micro',\n",
    "verbose =10\n",
    ")\n",
    "\n",
    "optimal_params.fit(X_Original_Scaled,y)\n"
   ]
  },
  {
   "cell_type": "code",
   "execution_count": null,
   "metadata": {
    "scrolled": true
   },
   "outputs": [],
   "source": [
    "fig, ax = plt.subplots(figsize=(20,20))\n",
    "test = plot_confusion_matrix(clf_svm, X_test_scaled, y_test, ax=ax)\n"
   ]
  },
  {
   "cell_type": "code",
   "execution_count": null,
   "metadata": {},
   "outputs": [],
   "source": [
    "clf_svm = SVC(random_state=42, C= , gamma=)\n",
    "clf_svm.fit(X_train_scaled, y_train)"
   ]
  },
  {
   "cell_type": "code",
   "execution_count": null,
   "metadata": {},
   "outputs": [],
   "source": [
    "fig, ax = plt.subplots(figsize=(20, 20))\n",
    "plot_confusion_matrix(clf_svm, X_test_scaled, y_test, ax=ax)\n",
    "# plot.show()"
   ]
  }
 ],
 "metadata": {
  "kernelspec": {
   "display_name": "Python 3",
   "language": "python",
   "name": "python3"
  },
  "language_info": {
   "codemirror_mode": {
    "name": "ipython",
    "version": 3
   },
   "file_extension": ".py",
   "mimetype": "text/x-python",
   "name": "python",
   "nbconvert_exporter": "python",
   "pygments_lexer": "ipython3",
   "version": "3.6.12"
  }
 },
 "nbformat": 4,
 "nbformat_minor": 2
}
