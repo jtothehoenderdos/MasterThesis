{
 "cells": [
  {
   "cell_type": "markdown",
   "metadata": {},
   "source": [
    "<h2>Cleaning Data</h2>\n",
    "Deze jupyter notebook file is gemaakt om de ruwe data die is aangeleverd door de gemeente, om te toveren naar een final dataset, waar een van de drie algoritshm meeteen mee aan de slag kan.\n",
    "Dit is allemaal beschreven in Data Cleaning in mijn thesis\n"
   ]
  },
  {
   "cell_type": "code",
   "execution_count": 1,
   "metadata": {},
   "outputs": [],
   "source": [
    "# Import needed packages\n",
    "import pandas as pd\n",
    "import datetime\n",
    "import matplotlib.pyplot as plt\n",
    "from collections import Counter\n",
    "from sklearn.preprocessing import LabelEncoder\n",
    "from matplotlib import pyplot\n",
    "from imblearn.under_sampling import RandomUnderSampler\n",
    "import seaborn"
   ]
  },
  {
   "cell_type": "code",
   "execution_count": 2,
   "metadata": {},
   "outputs": [],
   "source": [
    "## import the \"raw\" data\n",
    "bbgaPD = pd.read_excel(\"C:\\\\VERTROUWELIJK\\\\2020_BBGA_0907.xlsx\", engine='openpyxl')\n",
    "youthCareData = pd.read_excel(\"C:\\\\VERTROUWELIJK\\\\20200902-Studentbegeleiding-JHoenderdos-Input-Hashed.xlsx\", engine='openpyxl')"
   ]
  },
  {
   "cell_type": "code",
   "execution_count": 3,
   "metadata": {},
   "outputs": [],
   "source": [
    "# Place to variables\n",
    "jarenVanData = [2018,2019]"
   ]
  },
  {
   "cell_type": "code",
   "execution_count": 4,
   "metadata": {},
   "outputs": [],
   "source": [
    "# Place to make functions\n",
    "def calculateAge(born):\n",
    "    today = datetime.date.today()\n",
    "    return today.year - born.year - ((today.month, today.day) < (born.month, born.day))"
   ]
  },
  {
   "cell_type": "markdown",
   "metadata": {},
   "source": [
    "Onderstaande code is gemaakt voor het kopje \"Youth care data\" in mijn thesis. Hiermee is het mogelijk om de EDA te doen om de ruwe data. Uit onderstaande code komt dat ook de gegevens die nodig zijn voor tabel 1"
   ]
  },
  {
   "cell_type": "code",
   "execution_count": 5,
   "metadata": {},
   "outputs": [
    {
     "name": "stderr",
     "output_type": "stream",
     "text": [
      "C:\\Users\\jopho\\Anaconda3\\lib\\site-packages\\ipykernel_launcher.py:3: SettingWithCopyWarning: \n",
      "A value is trying to be set on a copy of a slice from a DataFrame.\n",
      "Try using .loc[row_indexer,col_indexer] = value instead\n",
      "\n",
      "See the caveats in the documentation: https://pandas.pydata.org/pandas-docs/stable/user_guide/indexing.html#returning-a-view-versus-a-copy\n",
      "  This is separate from the ipykernel package so we can avoid doing imports until\n",
      "C:\\Users\\jopho\\Anaconda3\\lib\\site-packages\\ipykernel_launcher.py:4: SettingWithCopyWarning: \n",
      "A value is trying to be set on a copy of a slice from a DataFrame.\n",
      "Try using .loc[row_indexer,col_indexer] = value instead\n",
      "\n",
      "See the caveats in the documentation: https://pandas.pydata.org/pandas-docs/stable/user_guide/indexing.html#returning-a-view-versus-a-copy\n",
      "  after removing the cwd from sys.path.\n",
      "C:\\Users\\jopho\\Anaconda3\\lib\\site-packages\\ipykernel_launcher.py:7: SettingWithCopyWarning: \n",
      "A value is trying to be set on a copy of a slice from a DataFrame.\n",
      "Try using .loc[row_indexer,col_indexer] = value instead\n",
      "\n",
      "See the caveats in the documentation: https://pandas.pydata.org/pandas-docs/stable/user_guide/indexing.html#returning-a-view-versus-a-copy\n",
      "  import sys\n",
      "C:\\Users\\jopho\\Anaconda3\\lib\\site-packages\\ipykernel_launcher.py:8: SettingWithCopyWarning: \n",
      "A value is trying to be set on a copy of a slice from a DataFrame.\n",
      "Try using .loc[row_indexer,col_indexer] = value instead\n",
      "\n",
      "See the caveats in the documentation: https://pandas.pydata.org/pandas-docs/stable/user_guide/indexing.html#returning-a-view-versus-a-copy\n",
      "  \n"
     ]
    }
   ],
   "source": [
    "## Describe the raw YouthCare data\n",
    "youthCareData2018 = youthCareData[(youthCareData['Betrekking Op Jaar'] == 2018)]\n",
    "youthCareData2018['Datum Geboorte'] = pd.to_datetime(youthCareData2018['Datum Geboorte'], format=\"%Y-%m-%d\")\n",
    "youthCareData2018['Leeftijd'] = youthCareData2018['Datum Geboorte'].apply(lambda x: calculateAge(x))\n",
    "\n",
    "youthCareData2019 = youthCareData[(youthCareData['Betrekking Op Jaar'] == 2019)]\n",
    "youthCareData2019['Datum Geboorte'] = pd.to_datetime(youthCareData2019['Datum Geboorte'], format=\"%Y-%m-%d\")\n",
    "youthCareData2019['Leeftijd'] = youthCareData2019['Datum Geboorte'].apply(lambda x: calculateAge(x))\n",
    "\n",
    "number_of_rows_2018 = len(youthCareData2018.index)\n",
    "number_of_rows_2019 = len(youthCareData2019.index)\n",
    "uniqueID2018 = len(youthCareData2018['hashID'].unique())\n",
    "uniqueID2019 = len(youthCareData2019['hashID'].unique())\n",
    "\n",
    "# Get only the client once\n",
    "uniqueClients2018 = youthCareData2018.groupby('hashID').apply(lambda youthCareData2018: youthCareData2018.sample(1))\n",
    "uniqueClients2019= youthCareData2019.groupby('hashID').apply(lambda youthCareData2019: youthCareData2019.sample(1))\n",
    "\n",
    "averageAge2018 = uniqueClients2018['Leeftijd'].mean()\n",
    "averageAge2019 = uniqueClients2019['Leeftijd'].mean()\n",
    "\n",
    "sex2018 = uniqueClients2018['Geslacht'].value_counts()\n",
    "sex2019 = uniqueClients2019['Geslacht'].value_counts()\n"
   ]
  },
  {
   "cell_type": "code",
   "execution_count": 6,
   "metadata": {},
   "outputs": [],
   "source": [
    "# BBGA data\n",
    "bbgaPD = bbgaPD[(bbgaPD[\"niveaunaam\"] == \"4-cijferige postcode\") & (bbgaPD.jaar.isin(jarenVanData))]\n",
    "bbgaPD = bbgaPD.dropna(axis=1, how='all')\n",
    "\n",
    "# for merging purposes, we change the name of one column\n",
    "bbgaPD =bbgaPD.rename(columns = {'gebiedcode15':'Postcode'})\n",
    "bbgaPD['Postcode'] = bbgaPD['Postcode'].astype(str).astype(int)\n",
    "\n",
    "# removing colums, were there was to much NA values. \n",
    "bbgaPD = bbgaPD.drop([ 'niveau' , 'niveaunaam' , 'gebiedcodenaam','gebiednaam'], axis=1)\n"
   ]
  },
  {
   "cell_type": "code",
   "execution_count": 7,
   "metadata": {},
   "outputs": [],
   "source": [
    "# YouthCare Data\n",
    "# Filter to get only data beloning to the right year\n",
    "youthCareData = youthCareData[(youthCareData['Betrekking Op Jaar'].isin(jarenVanData))]\n",
    "\n",
    "# remove all non digits in order to get Postcode4\n",
    "youthCareData = youthCareData[youthCareData.Postcode != 'xxxxx']\n",
    "youthCareData['Postcode'] = youthCareData['Postcode'].str.extract('(\\d+)', expand=False)\n",
    "\n",
    "\n",
    "# add extra colum to caluclate age in order te group persons better\n",
    "youthCareData['Datum Geboorte'] = pd.to_datetime(youthCareData['Datum Geboorte'], format=\"%Y-%m-%d\")\n",
    "youthCareData['Leeftijd'] = youthCareData['Datum Geboorte'].apply(lambda x: calculateAge(x))\n",
    "youthCareData['Postcode'] = youthCareData['Postcode'].astype(str).astype(int)\n",
    "\n",
    "\n",
    "# Add regex in order to filter only real voorziening data\n",
    "pat = '^[B|C][0-9][A-Z]{1,2}$'\n",
    "youthCareData['VoorziningenRegex'] = youthCareData.Voorziening.str.contains(pat)\n",
    "youthCareData = youthCareData[youthCareData['VoorziningenRegex'] == True]\n",
    "youthCareData['Geslacht'] =youthCareData['Geslacht'].replace(['M', 'V'], [0,1])\n",
    "\n",
    "youthCareData =youthCareData.rename(columns = {'Betrekking Op Jaar':'jaar'})"
   ]
  },
  {
   "cell_type": "markdown",
   "metadata": {},
   "source": [
    "In onderstaande regels worden de twee data sets, youth cara en de bbga dataset met elkaar gemerged. Zoals in mijn thesis beschreven is, gebeurt dit op basis van de 4cijfere postcode"
   ]
  },
  {
   "cell_type": "code",
   "execution_count": 8,
   "metadata": {},
   "outputs": [],
   "source": [
    "merged_dataRegex = pd.merge(youthCareData, bbgaPD, on=['Postcode', 'jaar'], how='inner')"
   ]
  },
  {
   "cell_type": "markdown",
   "metadata": {},
   "source": [
    "Omdat de data set imbalaced is, is ervoor gekozen om om alleen de bovenste 95% van de data te pakken. Hoe en waarom, is beschreven in mijn thesis onder het kopje \"Data Cleaning\". Ook zorgt dit er voor dat de data niet tot 1 persoon herleidt kan worden. Met de gemeente is er namelijk afgesproken dat er op zijn mintens 10 personen per catogorie moeten zitten. "
   ]
  },
  {
   "cell_type": "code",
   "execution_count": 9,
   "metadata": {},
   "outputs": [
    {
     "name": "stderr",
     "output_type": "stream",
     "text": [
      "C:\\Users\\jopho\\Anaconda3\\lib\\site-packages\\ipykernel_launcher.py:5: DeprecationWarning: The default dtype for empty Series will be 'object' instead of 'float64' in a future version. Specify a dtype explicitly to silence this warning.\n",
      "  \"\"\"\n"
     ]
    }
   ],
   "source": [
    "# create the final data set with 95% of the upper samples\n",
    "\n",
    "Amount_of_Samples_delete = len(merged_dataRegex)-round(len(merged_dataRegex)*0.95)\n",
    "overviewRegexAscendig = merged_dataRegex['Voorziening'].value_counts( ascending=True)\n",
    "samplesToBeDeleted = pd.Series([])\n",
    "\n",
    "sum = 0;\n",
    "i = 0;\n",
    "index = 0;\n",
    "\n",
    "for i in overviewRegexAscendig:\n",
    "    index = index + 1;\n",
    "    sum = i + sum;\n",
    "    \n",
    "    if(sum < Amount_of_Samples_delete):\n",
    "        continue;\n",
    "    else:\n",
    "        samplesToBeDeleted = overviewRegexAscendig[0:index];\n",
    "        break;\n",
    "        \n",
    "tempdf = samplesToBeDeleted.to_frame()\n",
    "\n",
    "tempdf = tempdf.reset_index()\n",
    "serviceNamesToBeDeleted = tempdf['index'].tolist()\n",
    "finalDataSet = merged_dataRegex[~merged_dataRegex['Voorziening'].isin(serviceNamesToBeDeleted)]\n",
    "finalDataSet = finalDataSet.reset_index(drop=True)\n",
    "\n",
    "finaldataset2018 = finalDataSet[(finalDataSet['jaar'] == 2018)]\n",
    "finaldataset2019 = finalDataSet[(finalDataSet['jaar'] == 2019)]\n",
    "\n",
    "finaldataSetY = finalDataSet\n",
    "\n",
    "# removing last variables which does not help in making the model\n",
    "finalDataSet = finalDataSet.drop(['hashID', 'Datum Geboorte', 'Productcategorie', 'Voorzieningsoort', 'Productcategorie', 'jaar', 'VoorziningenRegex', 'jaar' ], axis=1)\n",
    "\n",
    "finalDataSet = finalDataSet.fillna(0);"
   ]
  },
  {
   "cell_type": "markdown",
   "metadata": {},
   "source": [
    "Als gezegd, mag de data niet te veel privacy gevoelig info gevatten. Hier is dan ook de aantal regels per services te zien. Dit mag niet onder de 10 per service komen."
   ]
  },
  {
   "cell_type": "code",
   "execution_count": 10,
   "metadata": {},
   "outputs": [
    {
     "data": {
      "text/plain": [
       "B5I     2561\n",
       "B5DZ    2161\n",
       "C6DL    1136\n",
       "B5P      839\n",
       "B2I      749\n",
       "C6DZ     609\n",
       "C6I      454\n",
       "B2DZ     453\n",
       "B4DZ     371\n",
       "C5DL     368\n",
       "C5I      338\n",
       "C5P      335\n",
       "B5DL     333\n",
       "C8DZ     332\n",
       "C8DL     294\n",
       "B4I      284\n",
       "B6DZ     282\n",
       "C5DZ     281\n",
       "B2P      242\n",
       "B8DZ     228\n",
       "C4I      223\n",
       "B1I      197\n",
       "C4DZ     189\n",
       "B6I      160\n",
       "C2P      156\n",
       "C2I      153\n",
       "C1I      146\n",
       "C4DL     140\n",
       "C3DZ     128\n",
       "B2DL     104\n",
       "C2DL      97\n",
       "B6DL      90\n",
       "C2DZ      86\n",
       "C6P       84\n",
       "B7DZ      83\n",
       "C8I       72\n",
       "C8DM      68\n",
       "Name: Voorziening, dtype: int64"
      ]
     },
     "execution_count": 10,
     "metadata": {},
     "output_type": "execute_result"
    }
   ],
   "source": [
    "finalDataSet['Voorziening'].value_counts()"
   ]
  },
  {
   "cell_type": "markdown",
   "metadata": {},
   "source": [
    "Figuur 3 geeft een idee van de imbalance data set, en op welke threshold wij de data hebben gefilterd. Onderstaande code maakt dit figuur. "
   ]
  },
  {
   "cell_type": "code",
   "execution_count": 11,
   "metadata": {
    "scrolled": true
   },
   "outputs": [
    {
     "data": {
      "image/png": "[encoded data removed]",
      "text/plain": [
       "<Figure size 432x288 with 1 Axes>"
      ]
     },
     "metadata": {
      "needs_background": "light"
     },
     "output_type": "display_data"
    }
   ],
   "source": [
    "## make an plot for the report\n",
    "overviewRegex = merged_dataRegex['Voorziening'].value_counts()\n",
    "fig = plt.figure()\n",
    "plot = overviewRegex.plot.line()\n",
    "plot.axhline(y=132, color='r', linestyle='-')\n",
    "plot.set_xlabel('Services', fontsize=14)\n",
    "plot.set_ylabel('Frequency', fontsize=14)\n",
    "fig.add_subplot(plot)\n",
    "fig.savefig('full_figure.png')"
   ]
  },
  {
   "cell_type": "markdown",
   "metadata": {},
   "source": [
    "Summarize distribution of the dependent variabele. This in oder for making an figure which can be seen in the report in figure 4"
   ]
  },
  {
   "cell_type": "code",
   "execution_count": 12,
   "metadata": {},
   "outputs": [],
   "source": [
    "y = LabelEncoder().fit_transform(finalDataSet['Voorziening'])"
   ]
  },
  {
   "cell_type": "code",
   "execution_count": 13,
   "metadata": {},
   "outputs": [
    {
     "data": {
      "image/png": "[encoded data removed]",
      "text/plain": [
       "<Figure size 432x288 with 1 Axes>"
      ]
     },
     "metadata": {
      "needs_background": "light"
     },
     "output_type": "display_data"
    }
   ],
   "source": [
    "counter = Counter(y)\n",
    "pyplot.bar(counter.keys(), counter.values())\n",
    "pyplot.show()"
   ]
  },
  {
   "cell_type": "markdown",
   "metadata": {},
   "source": [
    "Visualize the result of undersampling the data"
   ]
  },
  {
   "cell_type": "code",
   "execution_count": 14,
   "metadata": {},
   "outputs": [
    {
     "data": {
      "image/png": "[encoded data removed]",
      "text/plain": [
       "<Figure size 432x288 with 1 Axes>"
      ]
     },
     "metadata": {
      "needs_background": "light"
     },
     "output_type": "display_data"
    }
   ],
   "source": [
    "rus = RandomUnderSampler(random_state=0)\n",
    "X = finalDataSet.drop(['Voorziening'], axis=1)\n",
    "X_resampled, y_resampled = rus.fit_resample(X, y)\n",
    "\n",
    "y_resampled = LabelEncoder().fit_transform(y_resampled)\n",
    "counter = Counter(y_resampled)\n",
    "fig = plt.figure()\n",
    "pyplot.bar(counter.keys(), counter.values())\n",
    "pyplot.savefig('RandomUnderSampleVisualize.png')"
   ]
  },
  {
   "cell_type": "markdown",
   "metadata": {},
   "source": [
    "Create histogrammen of all avaible variables in the histogram"
   ]
  },
  {
   "cell_type": "code",
   "execution_count": 15,
   "metadata": {},
   "outputs": [
    {
     "data": {
      "image/png": "[encoded data removed]",
      "text/plain": [
       "<Figure size 432x288 with 1 Axes>"
      ]
     },
     "metadata": {
      "needs_background": "light"
     },
     "output_type": "display_data"
    }
   ],
   "source": [
    "for i in X.columns:\n",
    "    plaatje = seaborn.histplot(X[i],kde=True)\n",
    "    naamplaatje = 'C:\\\\Users\\\\jopho\\\\Google Drive\\\\Master\\\\UvA\\\\Thesis\\\\MasterThesis GIT\\\\histogrammen\\\\' + str(i) + '.png'\n",
    "    plaatje.figure.savefig(naamplaatje)"
   ]
  },
  {
   "cell_type": "markdown",
   "metadata": {},
   "source": [
    "For creating an table with the amount of people for the y-variable. Next code is needed."
   ]
  },
  {
   "cell_type": "code",
   "execution_count": 15,
   "metadata": {},
   "outputs": [
    {
     "data": {
      "text/plain": [
       "'\\\\begin{tabular}{llr}\\n\\\\toprule\\n{} & Voorziening &  Count \\\\\\\\\\n\\\\midrule\\n0  &         B1I &    165 \\\\\\\\\\n1  &        B2DL &     80 \\\\\\\\\\n2  &        B2DZ &    376 \\\\\\\\\\n3  &         B2I &    641 \\\\\\\\\\n4  &         B2P &    202 \\\\\\\\\\n5  &        B4DZ &    265 \\\\\\\\\\n6  &         B4I &    242 \\\\\\\\\\n7  &        B5DL &    252 \\\\\\\\\\n8  &        B5DZ &   1595 \\\\\\\\\\n9  &         B5I &   2224 \\\\\\\\\\n10 &         B5P &    733 \\\\\\\\\\n11 &        B6DL &     61 \\\\\\\\\\n12 &        B6DZ &    215 \\\\\\\\\\n13 &         B6I &    148 \\\\\\\\\\n14 &        B7DZ &     54 \\\\\\\\\\n15 &        B8DZ &    164 \\\\\\\\\\n16 &         C1I &    117 \\\\\\\\\\n17 &        C2DL &     67 \\\\\\\\\\n18 &        C2DZ &     64 \\\\\\\\\\n19 &         C2I &    133 \\\\\\\\\\n20 &         C2P &    118 \\\\\\\\\\n21 &        C3DZ &     75 \\\\\\\\\\n22 &        C4DL &    121 \\\\\\\\\\n23 &        C4DZ &    147 \\\\\\\\\\n24 &         C4I &    179 \\\\\\\\\\n25 &        C5DL &    265 \\\\\\\\\\n26 &        C5DZ &    210 \\\\\\\\\\n27 &         C5I &    285 \\\\\\\\\\n28 &         C5P &    258 \\\\\\\\\\n29 &        C6DL &    951 \\\\\\\\\\n30 &        C6DZ &    474 \\\\\\\\\\n31 &         C6I &    386 \\\\\\\\\\n32 &         C6P &     67 \\\\\\\\\\n33 &        C8DL &    216 \\\\\\\\\\n34 &        C8DM &     68 \\\\\\\\\\n35 &        C8DZ &    234 \\\\\\\\\\n36 &         C8I &     64 \\\\\\\\\\n\\\\bottomrule\\n\\\\end{tabular}\\n'"
      ]
     },
     "execution_count": 15,
     "metadata": {},
     "output_type": "execute_result"
    }
   ],
   "source": [
    "SeriesfinaldataSetY = finaldataSetY.groupby('Voorziening')['hashID'].nunique()\n",
    "DFfinaldatasetY = SeriesfinaldataSetY.to_frame()\n",
    "DFfinaldatasetY = pd.DataFrame(DFfinaldatasetY).reset_index()\n",
    "DFfinaldatasetY.columns = ['Voorziening', 'Count']\n",
    "DFfinaldatasetY.to_latex()"
   ]
  },
  {
   "cell_type": "markdown",
   "metadata": {},
   "source": [
    "Om de final set op te slaan, en deze in andere jupyter notebook files gebruikt kan worden, wordt deze buiten deze jupyter notebook file opgeslagen. Eenmalig runnen van deze file is dan ook voldoende."
   ]
  },
  {
   "cell_type": "code",
   "execution_count": 16,
   "metadata": {},
   "outputs": [],
   "source": [
    "finalDataSet.to_pickle(\"C:\\\\VERTROUWELIJK\\\\final_dataSet.pkl\")"
   ]
  }
 ],
 "metadata": {
  "kernelspec": {
   "display_name": "Python 3",
   "language": "python",
   "name": "python3"
  },
  "language_info": {
   "codemirror_mode": {
    "name": "ipython",
    "version": 3
   },
   "file_extension": ".py",
   "mimetype": "text/x-python",
   "name": "python",
   "nbconvert_exporter": "python",
   "pygments_lexer": "ipython3",
   "version": "3.6.12"
  }
 },
 "nbformat": 4,
 "nbformat_minor": 2
}
