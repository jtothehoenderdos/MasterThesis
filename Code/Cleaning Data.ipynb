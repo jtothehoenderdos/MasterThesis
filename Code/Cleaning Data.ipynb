{
 "cells": [
  {
   "cell_type": "code",
   "execution_count": null,
   "metadata": {},
   "outputs": [],
   "source": [
    "# Import needed packages\n",
    "import pandas as pd\n",
    "import datetime\n",
    "import matplotlib.pyplot as plt"
   ]
  },
  {
   "cell_type": "code",
   "execution_count": null,
   "metadata": {},
   "outputs": [],
   "source": [
    "## import the \"raw\" data\n",
    "bbgaPD = pd.read_excel(\"C:\\\\VERTROUWELIJK\\\\2020_BBGA_0907.xlsx\", engine='openpyxl')\n",
    "youthCareData = pd.read_excel(\"C:\\\\VERTROUWELIJK\\\\20200902-Studentbegeleiding-JHoenderdos-Input-Hashed.xlsx\")"
   ]
  },
  {
   "cell_type": "code",
   "execution_count": null,
   "metadata": {},
   "outputs": [],
   "source": [
    "# Place to variables\n",
    "jarenVanData = [2018,2019]"
   ]
  },
  {
   "cell_type": "code",
   "execution_count": null,
   "metadata": {},
   "outputs": [],
   "source": [
    "# Place to make functions\n",
    "def calculateAge(born):\n",
    "    today = datetime.date.today()\n",
    "    return today.year - born.year - ((today.month, today.day) < (born.month, born.day))"
   ]
  },
  {
   "cell_type": "code",
   "execution_count": null,
   "metadata": {},
   "outputs": [],
   "source": [
    "## Describe the raw YouthCare data\n",
    "youthCareData2018 = youthCareData[(youthCareData['Betrekking Op Jaar'] == 2018)]\n",
    "youthCareData2018['Datum Geboorte'] = pd.to_datetime(youthCareData2018['Datum Geboorte'], format=\"%Y-%m-%d\")\n",
    "youthCareData2018['Leeftijd'] = youthCareData2018['Datum Geboorte'].apply(lambda x: calculateAge(x))\n",
    "\n",
    "youthCareData2019 = youthCareData[(youthCareData['Betrekking Op Jaar'] == 2019)]\n",
    "youthCareData2019['Datum Geboorte'] = pd.to_datetime(youthCareData2019['Datum Geboorte'], format=\"%Y-%m-%d\")\n",
    "youthCareData2019['Leeftijd'] = youthCareData2019['Datum Geboorte'].apply(lambda x: calculateAge(x))\n",
    "\n",
    "number_of_rows_2018 = len(youthCareData2018.index)\n",
    "number_of_rows_2019 = len(youthCareData2019.index)\n",
    "uniqueID2018 = len(youthCareData2018['hashID'].unique())\n",
    "uniqueID2019 = len(youthCareData2019['hashID'].unique())\n",
    "\n",
    "averageAge2018 = youthCareData2018['Leeftijd'].mean()\n",
    "averageAge2019 = youthCareData2019['Leeftijd'].mean()\n",
    "\n",
    "sex2018 = youthCareData2018['Geslacht'].value_counts()\n",
    "sex2019 = youthCareData2019['Geslacht'].value_counts()\n"
   ]
  },
  {
   "cell_type": "code",
   "execution_count": null,
   "metadata": {},
   "outputs": [],
   "source": [
    "# BBGA data\n",
    "bbgaPD = bbgaPD[(bbgaPD[\"niveaunaam\"] == \"4-cijferige postcode\") & (bbgaPD.jaar.isin(jarenVanData))]\n",
    "bbgaPD = bbgaPD.dropna(axis=1, how='all')\n",
    "\n",
    "# for merging purposes, we change the name of one column\n",
    "bbgaPD =bbgaPD.rename(columns = {'gebiedcode15':'Postcode'})\n",
    "bbgaPD['Postcode'] = bbgaPD['Postcode'].astype(str).astype(int)\n",
    "\n",
    "# removing colums, were there was to much NA values. \n",
    "bbgaPD = bbgaPD.drop([ 'niveau' , 'niveaunaam' , 'gebiedcodenaam','gebiednaam'], axis=1)\n"
   ]
  },
  {
   "cell_type": "code",
   "execution_count": null,
   "metadata": {},
   "outputs": [],
   "source": [
    "# YouthCare Data\n",
    "# Filter to get only data beloning to the right year\n",
    "youthCareData = youthCareData[(youthCareData['Betrekking Op Jaar'].isin(jarenVanData))]\n",
    "\n",
    "# remove all non digits in order to get Postcode4\n",
    "youthCareData = youthCareData[youthCareData.Postcode != 'xxxxx']\n",
    "youthCareData['Postcode'] = youthCareData['Postcode'].str.extract('(\\d+)', expand=False)\n",
    "\n",
    "\n",
    "# add extra colum to caluclate age in order te group persons better\n",
    "youthCareData['Datum Geboorte'] = pd.to_datetime(youthCareData['Datum Geboorte'], format=\"%Y-%m-%d\")\n",
    "youthCareData['Leeftijd'] = youthCareData['Datum Geboorte'].apply(lambda x: calculateAge(x))\n",
    "youthCareData['Postcode'] = youthCareData['Postcode'].astype(str).astype(int)\n",
    "\n",
    "\n",
    "# Add regex in order to filter only real voorziening data\n",
    "pat = '^[B|C][0-9][A-Z]{1,2}$'\n",
    "youthCareData['VoorziningenRegex'] = youthCareData.Voorziening.str.contains(pat)\n",
    "youthCareData = youthCareData[youthCareData['VoorziningenRegex'] == True]\n",
    "youthCareData['Geslacht'] =youthCareData['Geslacht'].replace(['M', 'V'], [0,1])"
   ]
  },
  {
   "cell_type": "code",
   "execution_count": null,
   "metadata": {},
   "outputs": [],
   "source": [
    "# merging data\n",
    "merged_dataRegex = pd.merge(youthCareData, bbgaPD, on='Postcode')"
   ]
  },
  {
   "cell_type": "code",
   "execution_count": null,
   "metadata": {},
   "outputs": [],
   "source": [
    "# create the final data set with 95% of the upper samples\n",
    "Amount_of_Samples_delete = len(merged_dataRegex)-round(len(merged_dataRegex)*0.95)\n",
    "overviewRegexAscendig = merged_dataRegex['Voorziening'].value_counts( ascending=True)\n",
    "samplesToBeDeleted = pd.Series([])\n",
    "\n",
    "sum = 0;\n",
    "i = 0;\n",
    "index = 0;\n",
    "\n",
    "for i in overviewRegexAscendig:\n",
    "    index = index + 1;\n",
    "    sum = i + sum;\n",
    "    \n",
    "    if(sum < Amount_of_Samples_delete):\n",
    "        continue;\n",
    "    else:\n",
    "        samplesToBeDeleted = overviewRegexAscendig[0:index];\n",
    "        break;\n",
    "        \n",
    "tempdf = samplesToBeDeleted.to_frame()\n",
    "\n",
    "tempdf = tempdf.reset_index()\n",
    "serviceNamesToBeDeleted = tempdf['index'].tolist()\n",
    "finalDataSet = merged_dataRegex[~merged_dataRegex['Voorziening'].isin(serviceNamesToBeDeleted)]\n",
    "finalDataSet = finalDataSet.reset_index(drop=True)\n",
    "\n",
    "# removing last variables which does not help in making the model\n",
    "finalDataSet = finalDataSet.drop(['hashID', 'Datum Geboorte', 'Productcategorie', 'Voorzieningsoort', 'Productcategorie', 'Betrekking Op Jaar', 'VoorziningenRegex', 'jaar' ], axis=1)\n",
    "\n",
    "finalDataSet = finalDataSet.fillna(0);"
   ]
  },
  {
   "cell_type": "code",
   "execution_count": null,
   "metadata": {
    "scrolled": true
   },
   "outputs": [],
   "source": [
    "## make an plot for the report\n",
    "overviewRegex = merged_dataRegex['Voorziening'].value_counts()\n",
    "fig = plt.figure()\n",
    "plot = overviewRegex.plot.line()\n",
    "plot.axhline(y=132, color='r', linestyle='-')\n",
    "plot.set_xlabel('Services', fontsize=14)\n",
    "plot.set_ylabel('Frequency', fontsize=14)\n",
    "fig.add_subplot(plot)\n",
    "fig.savefig('full_figure.png')"
   ]
  },
  {
   "cell_type": "code",
   "execution_count": null,
   "metadata": {},
   "outputs": [],
   "source": [
    "finalDataSet.to_pickle(\"C:\\\\VERTROUWELIJK\\\\final_dataSet.pkl\")"
   ]
  }
 ],
 "metadata": {
  "kernelspec": {
   "display_name": "Python 3",
   "language": "python",
   "name": "python3"
  },
  "language_info": {
   "codemirror_mode": {
    "name": "ipython",
    "version": 3
   },
   "file_extension": ".py",
   "mimetype": "text/x-python",
   "name": "python",
   "nbconvert_exporter": "python",
   "pygments_lexer": "ipython3",
   "version": "3.6.12"
  }
 },
 "nbformat": 4,
 "nbformat_minor": 2
}
